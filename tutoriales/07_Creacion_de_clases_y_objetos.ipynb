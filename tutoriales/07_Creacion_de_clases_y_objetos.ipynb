{
 "cells": [
  {
   "cell_type": "markdown",
   "metadata": {},
   "source": [
    "# Creación y uso de clases\n",
    "\n",
    "**Autor:** Sebastian Arpón <br />\n",
    "**E-mail:** <sarpon@metricarts.com> <br />\n",
    "**Github:** <https://github.com/sarpon> <br />\n",
    "\n",
    "Python es un lenguaje de programación que soporta múltiples paradigmas de programación, tales como programación orientada a objetos, imperativo y funcional.\n",
    "\n",
    "El soporte multiparadigma entrega un gran nivel de flexibilidad a Python."
   ]
  },
  {
   "cell_type": "markdown",
   "metadata": {},
   "source": [
    "## 1. Definición de clases\n",
    "\n",
    "En el contexto de la programación orientada a objetos se habla de objetos, clases, métodos y atributos. En una clase un \"método\" equivale a una \"función\", y un \"atributo\" equivale a una \"variable\".\n",
    "\n",
    "Las clases proveen una forma de empaquetar datos y funcionalidad juntos. Al crear una nueva clase, se crea un nuevo tipo de objeto, permitiendo crear nuevas instancias de ese tipo. Cada instancia de clase puede tener atributos adjuntos para mantener su estado. Las instancias de clase también pueden tener métodos (definidos por su clase) para modificar su estado.\n",
    "\n",
    "Comparado con otros lenguajes de programación, el mecanismo de clases de Python agrega clases con un mínimo de nuevas sintaxis y semánticas. Es una mezcla de los mecanismos de clases encontrados en C++ y Modula-3.\n",
    "\n",
    "Las clases de Python proveen todas las características normales de la Programación Orientada a Objetos:\n",
    "\n",
    "- El mecanismo de la herencia de clases permite múltiples clases base\n",
    "- Una clase derivada puede sobre escribir cualquier método de su(s) clase(s) base\n",
    "- Un método puede llamar al método de la clase base con el mismo nombre\n",
    "\n",
    "Los objetos pueden tener una cantidad arbitraria de datos de cualquier tipo. Igual que con los módulos, las clases participan de la naturaleza dinámica de Python: se crean en tiempo de ejecución, y pueden modificarse luego de la creación."
   ]
  },
  {
   "cell_type": "markdown",
   "metadata": {},
   "source": [
    "### Acerca de nombres y objetos\n",
    "\n",
    "Los objetos tienen individualidad, y múltiples nombres (en muchos ámbitos) pueden vincularse al mismo objeto. Esto se conoce como aliasing en otros lenguajes. Normalmente no se aprecia esto a primera vista en Python, y puede ignorarse sin problemas cuando se maneja tipos básicos inmutables (números, cadenas, tuplas).\n",
    "\n",
    "Sin embargo, el aliasing, o renombrado, tiene un efecto posiblemente sorpresivo sobre la semántica de código Python que involucra objetos mutables como listas, diccionarios, y la mayoría de otros tipos."
   ]
  },
  {
   "cell_type": "markdown",
   "metadata": {},
   "source": [
    "### Espacios de nombres en Python\n",
    "\n",
    "Un **espacio de nombres** es una relación de nombres a objetos. Muchos espacios de nombres están implementados en este momento como diccionarios de Python, pero eso no se nota para nada (excepto por el desempeño), y puede cambiar en el futuro. Como ejemplos de espacios de nombres tienes: el conjunto de nombres incluidos (conteniendo funciones como abs(), y los nombres de excepciones integradas); los nombres globales en un módulo; y los nombres locales en la invocación a una función.\n",
    "\n",
    "Lo que es importante saber de los espacios de nombres es que no hay relación en absoluto entre los nombres de espacios de nombres distintos; por ejemplo, dos módulos diferentes pueden tener definidos los dos una función maximizar sin confusión; los usuarios de los módulos deben usar el nombre del módulo como prefijo.\n",
    "\n",
    "La palabra atributo se usa para cualquier cosa después de un punto; por ejemplo, en la expresión z.real, real es un atributo del objeto z.\n",
    "\n",
    "Estrictamente hablando, las referencias a nombres en módulos son referencias a atributos: en la expresión modulo.funcion, modulo es un objeto módulo y funcion es un atributo de éste. En este caso hay una relación directa entre los atributos del módulo y los nombres globales definidos en el módulo: ¡están compartiendo el mismo espacio de nombres!\n",
    "\n",
    "### Ámbitos en Python\n",
    "\n",
    "Un **ámbito** es una región textual de un programa en Python donde un espacio de nombres es accesible directamente. \"Accesible directamente\" significa que una referencia sin calificar a un nombre intenta encontrar dicho nombre dentro del espacio de nombres.\n",
    "\n",
    "Aunque los alcances se determinan estáticamente, se usan dinámicamente. En cualquier momento durante la ejecución hay por lo menos cuatro alcances anidados cuyos espacios de nombres son directamente accesibles\n",
    "\n",
    "- el ámbito interno, donde se busca primero, contiene los nombres locales\n",
    "- los espacios de nombres de las funciones anexas, en las cuales se busca empezando por el ámbito adjunto más cercano, contiene los nombres no locales pero también los no globales\n",
    "- el ámbito anteúltimo contiene los nombres globales del módulo actual\n",
    "- el ámbito exterior (donde se busca al final) es el espacio de nombres que contiene los nombres incluidos"
   ]
  },
  {
   "cell_type": "markdown",
   "metadata": {},
   "source": [
    "## 2. Sintáxis de la definición de clases\n",
    "\n",
    "La forma más sencilla de definición de una clase se ve así\n",
    "\n",
    "```\n",
    "class Clase:\n",
    "    <declaración-1>\n",
    "    .\n",
    "    .\n",
    "    .\n",
    "    <declaración-N>\n",
    "```\n",
    "\n",
    "Las definiciones de clases, al igual que las definiciones de funciones (instrucciones def) deben ejecutarse antes de que tengan efecto alguno. Es concebible poner una definición de clase dentro de una rama de un if, o dentro de una función.\n",
    "\n",
    "Cuando una definición de clase se finaliza normalmente se crea un objeto clase. Básicamente, este objeto envuelve los contenidos del espacio de nombres creado por la definición de la clase"
   ]
  },
  {
   "cell_type": "markdown",
   "metadata": {},
   "source": [
    "### Objeto clase\n",
    "\n",
    "Los objetos clase soportan dos tipos de operaciones: hacer referencia a atributos e instanciación.\n",
    "\n",
    "#### Referencia a atributos\n",
    "\n",
    "Para hacer referencia a atributos se usa la sintaxis estándar de todas las referencias a atributos en Python: objeto.nombre.\n",
    "\n",
    "Los nombres de atributo válidos son todos los nombres que estaban en el espacio de nombres de la clase cuando ésta se creó. Por lo tanto, si la definición de la clase es así"
   ]
  },
  {
   "cell_type": "code",
   "execution_count": 1,
   "metadata": {},
   "outputs": [],
   "source": [
    "class MiClase:\n",
    "    \"\"\"Simple clase de ejemplo\"\"\"\n",
    "    i = 12345\n",
    "    def f(self):\n",
    "        return 'Hola mundo'"
   ]
  },
  {
   "cell_type": "markdown",
   "metadata": {},
   "source": [
    "entonces MiClase.i y MiClase.f son referencias de atributos válidas, que devuelven un entero y un objeto función respectivamente.\n",
    "\n",
    "Los atributos de clase también pueden ser asignados, o sea que se pueden cambiar el valor de MiClase.i mediante asignación."
   ]
  },
  {
   "cell_type": "markdown",
   "metadata": {},
   "source": [
    "#### Instantación de clases\n",
    "\n",
    "La instanciación de clases usa la notación de funciones. Suponga que el objeto de clase es una función sin parámetros que devuelve una nueva instancia de la clase. Por ejemplo,"
   ]
  },
  {
   "cell_type": "code",
   "execution_count": 2,
   "metadata": {},
   "outputs": [],
   "source": [
    "x=MiClase()"
   ]
  },
  {
   "cell_type": "markdown",
   "metadata": {},
   "source": [
    "crea una nueva instancia de la clase y asigna este objeto a la variable local x.\n",
    "\n",
    "Podemos ejecutar el método f() del objeto x."
   ]
  },
  {
   "cell_type": "code",
   "execution_count": 3,
   "metadata": {},
   "outputs": [
    {
     "data": {
      "text/plain": [
       "'Hola mundo'"
      ]
     },
     "execution_count": 3,
     "metadata": {},
     "output_type": "execute_result"
    }
   ],
   "source": [
    "x.f()"
   ]
  },
  {
   "cell_type": "markdown",
   "metadata": {},
   "source": [
    "Cuando una clase define un método __init__(), la instanciación de la clase automáticamente invoca a __init__() para la instancia recién creada."
   ]
  },
  {
   "cell_type": "code",
   "execution_count": 4,
   "metadata": {},
   "outputs": [],
   "source": [
    "class Complejo:\n",
    "    def __init__(self, partereal, parteimaginaria):\n",
    "        self.r = partereal\n",
    "        self.i = parteimaginaria"
   ]
  },
  {
   "cell_type": "code",
   "execution_count": 5,
   "metadata": {},
   "outputs": [
    {
     "data": {
      "text/plain": [
       "(3.0, -4.5)"
      ]
     },
     "execution_count": 5,
     "metadata": {},
     "output_type": "execute_result"
    }
   ],
   "source": [
    "x = Complejo(3.0, -4.5)\n",
    "x.r, x.i"
   ]
  },
  {
   "cell_type": "markdown",
   "metadata": {},
   "source": [
    "## 3. Creación de clase usando constructor\n",
    "\n",
    "En general, las variables de instancia son para datos únicos de cada instancia y las variables de clase son para atributos y métodos compartidos por todas las instancias de la clase:"
   ]
  },
  {
   "cell_type": "code",
   "execution_count": null,
   "metadata": {
    "collapsed": true
   },
   "outputs": [],
   "source": [
    "class Perro:\n",
    "\n",
    "    tipo = 'canino'                 # variable de clase compartida por todas las instancias\n",
    "\n",
    "    def __init__(self, nombre):\n",
    "        self.nombre = nombre        # variable de instancia única para la instancia"
   ]
  },
  {
   "cell_type": "code",
   "execution_count": null,
   "metadata": {
    "collapsed": true
   },
   "outputs": [],
   "source": [
    "d = Perro('Fido')\n",
    "e = Perro('Buddy')"
   ]
  },
  {
   "cell_type": "code",
   "execution_count": null,
   "metadata": {
    "collapsed": true
   },
   "outputs": [],
   "source": [
    "# Variable compartida por todos los perros\n",
    "\n",
    "print(d.tipo)\n",
    "print(e.tipo)"
   ]
  },
  {
   "cell_type": "code",
   "execution_count": null,
   "metadata": {
    "collapsed": true
   },
   "outputs": [],
   "source": [
    "# Única para cada objeto\n",
    "\n",
    "print(d.nombre)\n",
    "print(e.nombre)"
   ]
  },
  {
   "cell_type": "markdown",
   "metadata": {
    "collapsed": true
   },
   "source": [
    "## 4. Creación de clase y uso de accesores y mutadores"
   ]
  },
  {
   "cell_type": "code",
   "execution_count": 6,
   "metadata": {},
   "outputs": [],
   "source": [
    "class Perro:\n",
    "\n",
    "    def __init__(self, nombre, dia, mes, año, ladrido):\n",
    "        self.nombre = nombre\n",
    "        self.dia = dia\n",
    "        self.mes = mes\n",
    "        self.año = año\n",
    "        self.ladrido = ladrido\n",
    "\n",
    "    # El metodo bark es un método accesor que retorna el valor de la variable ladrido\n",
    "    def bark(self):\n",
    "        return self.ladrido\n",
    "\n",
    "    # El metodo getName es un método accesor que retorna el nombre del perro\n",
    "    def getName(self):\n",
    "        return self.name\n",
    "    \n",
    "    # El método getBirthDate es un método accesor que retorna la fecha de nacimiento del perro\n",
    "    def getBirthdate(self):\n",
    "        return str(self.dia) + \"/\" + str(self.mes) + \"/\" + str(self.año)\n",
    "\n",
    "    # El método changeBark cambia el ladrido del perro.\n",
    "    def changeBark(self, ladrido):\n",
    "        self.ladrido = ladrido"
   ]
  },
  {
   "cell_type": "markdown",
   "metadata": {},
   "source": [
    "¿Qué sucede si tratamos de crear un objeto Perro usando solamente un argumento?"
   ]
  },
  {
   "cell_type": "code",
   "execution_count": 7,
   "metadata": {},
   "outputs": [
    {
     "ename": "TypeError",
     "evalue": "__init__() missing 4 required positional arguments: 'dia', 'mes', 'año', and 'ladrido'",
     "output_type": "error",
     "traceback": [
      "\u001b[1;31m---------------------------------------------------------------------------\u001b[0m",
      "\u001b[1;31mTypeError\u001b[0m                                 Traceback (most recent call last)",
      "\u001b[1;32m<ipython-input-7-c19eb00f9523>\u001b[0m in \u001b[0;36m<module>\u001b[1;34m()\u001b[0m\n\u001b[1;32m----> 1\u001b[1;33m \u001b[0mperro_santiago\u001b[0m \u001b[1;33m=\u001b[0m \u001b[0mPerro\u001b[0m\u001b[1;33m(\u001b[0m\u001b[1;34m'cachupin'\u001b[0m\u001b[1;33m)\u001b[0m\u001b[1;33m\u001b[0m\u001b[0m\n\u001b[0m",
      "\u001b[1;31mTypeError\u001b[0m: __init__() missing 4 required positional arguments: 'dia', 'mes', 'año', and 'ladrido'"
     ]
    }
   ],
   "source": [
    "perro_santiago = Perro('cachupin')"
   ]
  },
  {
   "cell_type": "code",
   "execution_count": 8,
   "metadata": {},
   "outputs": [
    {
     "name": "stdout",
     "output_type": "stream",
     "text": [
      "Help on class Perro in module __main__:\n",
      "\n",
      "class Perro(builtins.object)\n",
      " |  Methods defined here:\n",
      " |  \n",
      " |  __init__(self, nombre, dia, mes, año, ladrido)\n",
      " |      Initialize self.  See help(type(self)) for accurate signature.\n",
      " |  \n",
      " |  bark(self)\n",
      " |      # El metodo bark es un método accesor que retorna el valor de la variable ladrido\n",
      " |  \n",
      " |  changeBark(self, ladrido)\n",
      " |      # El método changeBark cambia el ladrido del perro.\n",
      " |  \n",
      " |  getBirthdate(self)\n",
      " |      # El método getBirthDate es un método accesor que retorna la fecha de nacimiento del perro\n",
      " |  \n",
      " |  getName(self)\n",
      " |      # El metodo getName es un método accesor que retorna el nombre del perro\n",
      " |  \n",
      " |  ----------------------------------------------------------------------\n",
      " |  Data descriptors defined here:\n",
      " |  \n",
      " |  __dict__\n",
      " |      dictionary for instance variables (if defined)\n",
      " |  \n",
      " |  __weakref__\n",
      " |      list of weak references to the object (if defined)\n",
      "\n"
     ]
    }
   ],
   "source": [
    "help(Perro)"
   ]
  },
  {
   "cell_type": "markdown",
   "metadata": {},
   "source": [
    "Ahora intetemos usando los 5 argumentos requeridos"
   ]
  },
  {
   "cell_type": "code",
   "execution_count": 9,
   "metadata": {},
   "outputs": [],
   "source": [
    "perro_santiago = Perro('cachupin', 10, 5, 2010, 'guau guau')"
   ]
  },
  {
   "cell_type": "code",
   "execution_count": 10,
   "metadata": {},
   "outputs": [],
   "source": [
    "perro_concepcion = Perro('chispa', 15, 10, 2015, 'WOOOOF')"
   ]
  },
  {
   "cell_type": "code",
   "execution_count": 11,
   "metadata": {},
   "outputs": [
    {
     "name": "stdout",
     "output_type": "stream",
     "text": [
      "guau guau\n"
     ]
    }
   ],
   "source": [
    "print(perro_santiago.bark())"
   ]
  },
  {
   "cell_type": "code",
   "execution_count": 12,
   "metadata": {},
   "outputs": [
    {
     "name": "stdout",
     "output_type": "stream",
     "text": [
      "WOOOOF\n"
     ]
    }
   ],
   "source": [
    "print(perro_concepcion.bark())"
   ]
  },
  {
   "cell_type": "code",
   "execution_count": 13,
   "metadata": {},
   "outputs": [
    {
     "name": "stdout",
     "output_type": "stream",
     "text": [
      "10/5/2010\n"
     ]
    }
   ],
   "source": [
    "print(perro_santiago.getBirthdate())"
   ]
  },
  {
   "cell_type": "code",
   "execution_count": 14,
   "metadata": {},
   "outputs": [],
   "source": [
    "perro_santiago.changeBark('GUAU')"
   ]
  },
  {
   "cell_type": "code",
   "execution_count": 15,
   "metadata": {},
   "outputs": [
    {
     "name": "stdout",
     "output_type": "stream",
     "text": [
      "GUAU\n"
     ]
    }
   ],
   "source": [
    "print(perro_santiago.bark())"
   ]
  },
  {
   "cell_type": "markdown",
   "metadata": {},
   "source": [
    "## 5. Creación de clase \"ejecutable\"\n",
    "Python nos permite que uno pueda llamar a un objeto por su nombre, indicando parámetros, y se ejecute una función. Esta función es una función especial, llamada `__call__`. Veamos un ejemplo:"
   ]
  },
  {
   "cell_type": "code",
   "execution_count": 17,
   "metadata": {},
   "outputs": [],
   "source": [
    "class Derivada():\n",
    "    def __init__(self, f, h=1E-5):\n",
    "        print(\"Comenzando ejecución del constructor\")\n",
    "        self.f = f\n",
    "        self.h = float(h)\n",
    "        \n",
    "\n",
    "    def __call__(self, x):\n",
    "        print(\"Comenzando ejecución de __call__\")\n",
    "        f, h = self.f, self.h      # make short forms\n",
    "        print(\"f(x+h): \" , f(x+h))\n",
    "        print(\"f(x)\" , f(x))\n",
    "        return (f(x+h) - f(x))/h"
   ]
  },
  {
   "cell_type": "markdown",
   "metadata": {},
   "source": [
    "La función `__call__` en este caso realiza la labor de calcular la derivada. Ahora veamos cómo la podemos utilizar"
   ]
  },
  {
   "cell_type": "code",
   "execution_count": 18,
   "metadata": {},
   "outputs": [
    {
     "name": "stdout",
     "output_type": "stream",
     "text": [
      "Comenzando ejecución del constructor\n"
     ]
    }
   ],
   "source": [
    "from math import sin, pi\n",
    "\n",
    "df = Derivada(sin)    #¿Qué función será llamada?\n"
   ]
  },
  {
   "cell_type": "code",
   "execution_count": 21,
   "metadata": {},
   "outputs": [
    {
     "name": "stdout",
     "output_type": "stream",
     "text": [
      "Comenzando ejecución de __call__\n",
      "f(x+h):  -9.999999999087362e-06\n",
      "f(x) 3.6739403974420594e-16\n",
      "-0.9999999999454755\n"
     ]
    }
   ],
   "source": [
    "x = 3*pi         \n",
    "\n",
    "print(df(x))          #¿Qué función será llamada?"
   ]
  },
  {
   "cell_type": "markdown",
   "metadata": {},
   "source": [
    "---\n",
    "# Ejercicios\n",
    "\n",
    "Realice los siguientes ejercicios. En caso de tener dudas, puede apoyarse con sus compañeros, preguntarle al profesor y hacer búsquedas en internet."
   ]
  },
  {
   "cell_type": "markdown",
   "metadata": {},
   "source": [
    "\n",
    "1. Cree una clase llamada **Gato**, la cual debe contener una variable llamada tipo y cuyo valor sea 'felino'. La clase debe permitir ser instanciada con dos valores, el primero que corresponda al nombre del gato y el segundo al color del pelo.<br><br>\n",
    "2. Cree dos objetos del tipo Gato. El primer objeto se llamara gato1, el nombre del gato es \"Garfield\" y el color de pelo es \"naranjo\". El seguno objeto se llama gato2, el nombre del gato es \"Silvestre\" y el color del pelo es \"gris\"."
   ]
  },
  {
   "cell_type": "code",
   "execution_count": null,
   "metadata": {
    "collapsed": true
   },
   "outputs": [],
   "source": []
  },
  {
   "cell_type": "markdown",
   "metadata": {},
   "source": [
    " "
   ]
  },
  {
   "cell_type": "code",
   "execution_count": null,
   "metadata": {
    "collapsed": true
   },
   "outputs": [],
   "source": []
  }
 ],
 "metadata": {
  "kernelspec": {
   "display_name": "Python 3",
   "language": "python",
   "name": "python3"
  },
  "language_info": {
   "codemirror_mode": {
    "name": "ipython",
    "version": 3
   },
   "file_extension": ".py",
   "mimetype": "text/x-python",
   "name": "python",
   "nbconvert_exporter": "python",
   "pygments_lexer": "ipython3",
   "version": "3.6.4"
  }
 },
 "nbformat": 4,
 "nbformat_minor": 2
}

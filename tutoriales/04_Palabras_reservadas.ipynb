{
 "cells": [
  {
   "cell_type": "markdown",
   "metadata": {},
   "source": [
    "# Palabras reservadas en Python\n",
    "\n",
    "Las palabras reservadas o keywords de Python son aquellos nombres que incorpora el lenguaje de programación y que no pueden ser reemplazados por un valor determinado o alterar su funcionamiento."
   ]
  },
  {
   "cell_type": "markdown",
   "metadata": {},
   "source": [
    "En Python 2 existen 31 palabras reservadas\n",
    "\n",
    "|   |   |   |   |\n",
    "| :-: | :-: | :-: | :-: |\n",
    "| and | as | assert | break |\n",
    "| class | continue | def | del |\n",
    "| elif | else | except | exec |\n",
    "| finally | for | from | global |\n",
    "| if | import | in | is |\n",
    "| lambda | not | or | pass |\n",
    "| print | raise | return | try |\n",
    "| while | with | yield | |\n",
    "\n",
    "En Python 3 las palabras `exec` y `print` fueron eliminadas, mientras que fueron incoporadas las palabras `nonlocal`, `True`, `False` y `None`. De esta manera, en Python 3 existe 33 palabras reservadas\n",
    "\n",
    "|   |   |   |   |\n",
    "| :-: | :-: | :-: | :-: |\n",
    "| and | as | assert | break |\n",
    "| class | continue | def | del |\n",
    "| elif | else | except | False |\n",
    "| finally | for | from | global |\n",
    "| if | import | in | is |\n",
    "| lambda | None | nonlocal | not |\n",
    "| or | pass | raise | return |\n",
    "| True | try | while | with |\n",
    "| yield |"
   ]
  },
  {
   "cell_type": "markdown",
   "metadata": {},
   "source": [
    "## 1. Uso del módulo keyword\n",
    "\n",
    "Se puede usar la función `kwlist` del módulo `keyword` para obtener la lista de palabras reservadas"
   ]
  },
  {
   "cell_type": "code",
   "execution_count": 1,
   "metadata": {},
   "outputs": [
    {
     "data": {
      "text/plain": [
       "['False',\n",
       " 'None',\n",
       " 'True',\n",
       " 'and',\n",
       " 'as',\n",
       " 'assert',\n",
       " 'break',\n",
       " 'class',\n",
       " 'continue',\n",
       " 'def',\n",
       " 'del',\n",
       " 'elif',\n",
       " 'else',\n",
       " 'except',\n",
       " 'finally',\n",
       " 'for',\n",
       " 'from',\n",
       " 'global',\n",
       " 'if',\n",
       " 'import',\n",
       " 'in',\n",
       " 'is',\n",
       " 'lambda',\n",
       " 'nonlocal',\n",
       " 'not',\n",
       " 'or',\n",
       " 'pass',\n",
       " 'raise',\n",
       " 'return',\n",
       " 'try',\n",
       " 'while',\n",
       " 'with',\n",
       " 'yield']"
      ]
     },
     "execution_count": 1,
     "metadata": {},
     "output_type": "execute_result"
    }
   ],
   "source": [
    "import keyword\n",
    "\n",
    "keyword.kwlist"
   ]
  },
  {
   "cell_type": "markdown",
   "metadata": {},
   "source": [
    "Supongamos que queremos definir una variable de nombre None en nuestro código. Para verificar que no sea una palabra reservada, usamos la función `iskeyword`. Si la respuesta es True significa que la palabra es reservada del sistema."
   ]
  },
  {
   "cell_type": "code",
   "execution_count": null,
   "metadata": {},
   "outputs": [],
   "source": [
    "keyword.iskeyword('None')"
   ]
  },
  {
   "cell_type": "code",
   "execution_count": null,
   "metadata": {},
   "outputs": [],
   "source": [
    "keyword.iskeyword('dog')"
   ]
  },
  {
   "cell_type": "markdown",
   "metadata": {},
   "source": [
    "## 2. Ejemplos de palabras reservadas\n",
    "\n",
    "A continuación una lista de palabras reservadas usadas comúnmente en Python\n",
    "\n",
    "- **True / False** : Representaciones booleanas de Verdadero y Falso"
   ]
  },
  {
   "cell_type": "code",
   "execution_count": null,
   "metadata": {
    "collapsed": true
   },
   "outputs": [],
   "source": [
    "x=True\n",
    "y=False"
   ]
  },
  {
   "cell_type": "markdown",
   "metadata": {},
   "source": [
    "- **and / or** : Representaciones lógicas de \"y\" y \"o\", respectivamente "
   ]
  },
  {
   "cell_type": "code",
   "execution_count": null,
   "metadata": {},
   "outputs": [],
   "source": [
    "x= True and False\n",
    "print(x)"
   ]
  },
  {
   "cell_type": "code",
   "execution_count": null,
   "metadata": {
    "collapsed": true
   },
   "outputs": [],
   "source": [
    "y= True or False\n",
    "print(y)"
   ]
  },
  {
   "cell_type": "markdown",
   "metadata": {},
   "source": [
    "- **None** : None es utilizado para indicar la ausencia de un valor en un objeto determinado."
   ]
  },
  {
   "cell_type": "code",
   "execution_count": null,
   "metadata": {
    "collapsed": true
   },
   "outputs": [],
   "source": [
    "x= None\n",
    "print(x)\n",
    "print(type(x))"
   ]
  },
  {
   "cell_type": "code",
   "execution_count": null,
   "metadata": {
    "collapsed": true
   },
   "outputs": [],
   "source": [
    "x+1"
   ]
  },
  {
   "cell_type": "markdown",
   "metadata": {},
   "source": [
    "- **assert** : Durante la depuración de un código `assert` permite especificar una expresión que lanzará `AssertionError` en caso de ser evaluada como falsa."
   ]
  },
  {
   "cell_type": "code",
   "execution_count": null,
   "metadata": {},
   "outputs": [],
   "source": [
    "assert 1 == 2"
   ]
  },
  {
   "cell_type": "code",
   "execution_count": null,
   "metadata": {
    "collapsed": true
   },
   "outputs": [],
   "source": [
    "assert 1 == 1"
   ]
  },
  {
   "cell_type": "markdown",
   "metadata": {},
   "source": [
    "- **try / except / else / finally**:\n",
    "\n",
    "Las cláusula try / except permite capturar una **excepción** dentro de una determinada porción de código.\n",
    "Una **Excepción** es un error \"*en tiempo de ejecución*\", es decir, un error que el intérprete Python detecta mientras el programa se está ejecutando, y no antes, al revisar la sintaxis. En el siguiente ejemplo se ve que \"`result = x / y`\" está sintácticamente bien, pero su valor se puede indefinir de acuerdo al valor de `y`."
   ]
  },
  {
   "cell_type": "code",
   "execution_count": null,
   "metadata": {},
   "outputs": [],
   "source": [
    "x=10\n",
    "y=0\n",
    "\n",
    "x/y"
   ]
  },
  {
   "cell_type": "code",
   "execution_count": null,
   "metadata": {},
   "outputs": [],
   "source": [
    "x=10\n",
    "y=0\n",
    "\n",
    "try:\n",
    "    result = x / y\n",
    "except ZeroDivisionError:\n",
    "    print(\"División por cero!\")"
   ]
  },
  {
   "cell_type": "markdown",
   "metadata": {},
   "source": [
    "En caso de no haberse propagado ninguna excepción, el flujo del programa seguirá luego del término `else` al finalizar la ejecución del bloque de código de `try`"
   ]
  },
  {
   "cell_type": "code",
   "execution_count": null,
   "metadata": {},
   "outputs": [],
   "source": [
    "x=10\n",
    "y=2\n",
    "\n",
    "try:\n",
    "    result = x / y\n",
    "except ZeroDivisionError:\n",
    "    print(\"División por cero!\")\n",
    "else:\n",
    "    print(\"Resultado de división entre \", x, \" y \", y, \" = \", result)"
   ]
  },
  {
   "cell_type": "code",
   "execution_count": null,
   "metadata": {},
   "outputs": [],
   "source": [
    "x=input()"
   ]
  },
  {
   "cell_type": "code",
   "execution_count": null,
   "metadata": {},
   "outputs": [],
   "source": [
    "x"
   ]
  },
  {
   "cell_type": "markdown",
   "metadata": {},
   "source": [
    "Por último, el flujo será enviado luego del término finally al finalizar la ejecución del código anterior, independientemente si han surgido errores. Es decir, el código dentro del `finally` siempre se ejecuta."
   ]
  },
  {
   "cell_type": "code",
   "execution_count": null,
   "metadata": {},
   "outputs": [],
   "source": [
    "x=10\n",
    "y=0\n",
    "\n",
    "try:\n",
    "    result = 30/2\n",
    "    result = x / y\n",
    "except ZeroDivisionError:\n",
    "    print(\"División por cero!\")\n",
    "else:\n",
    "    print(\"Resultado de división entre \", x, \" y \", y, \" = \", result)\n",
    "finally:\n",
    "    print(\"La división ha finalizado\")"
   ]
  },
  {
   "cell_type": "code",
   "execution_count": null,
   "metadata": {},
   "outputs": [],
   "source": [
    "result"
   ]
  },
  {
   "cell_type": "markdown",
   "metadata": {},
   "source": [
    "- **raise**: Permite forzar la aparición de una excepción."
   ]
  },
  {
   "cell_type": "code",
   "execution_count": null,
   "metadata": {},
   "outputs": [],
   "source": [
    "raise NameError(\"¡Hola Amigos!\")"
   ]
  },
  {
   "cell_type": "code",
   "execution_count": null,
   "metadata": {},
   "outputs": [],
   "source": [
    "try:\n",
    "    raise ZeroDivisionError('malo malo')\n",
    "    \n",
    "except Exception as error:\n",
    "    print('Estamos manejando un error: ' , error)\n",
    "else:\n",
    "    print(\"No detectamos errores\")\n",
    "finally:\n",
    "    print(\"Terminamos el trabajo\")"
   ]
  },
  {
   "cell_type": "markdown",
   "metadata": {},
   "source": [
    "- **with:** Permite encapsular la ejecución de un bloque de código, de modo que la inicialización y finalización de un objeto es realizada automáticamente por Python, utilizando las funciones `__enter__` y `__exit__`"
   ]
  },
  {
   "cell_type": "code",
   "execution_count": null,
   "metadata": {},
   "outputs": [],
   "source": [
    "with open(\"data/poema_15_Pablo_Neruda.txt\") as f:\n",
    "    for line in f:\n",
    "        print(line, end=\"\")"
   ]
  },
  {
   "cell_type": "markdown",
   "metadata": {
    "collapsed": true
   },
   "source": [
    "- **pass**: Representa una operación nula. *Hace nada, literalmente*. Pero es útil en casos en que tenemos zonas del código que todavía no estamos implementando, de manera que podemos dejar el `pass` para implementar posteriormente "
   ]
  },
  {
   "cell_type": "code",
   "execution_count": null,
   "metadata": {},
   "outputs": [],
   "source": [
    "# ¿Funcionará? La idea es que no he implementado el código dentro del if\n",
    "a = 1\n",
    "if a == 1:\n",
    "    #aquí deberíamos implementar algo\n",
    "print(\"terminamos\")"
   ]
  },
  {
   "cell_type": "code",
   "execution_count": null,
   "metadata": {},
   "outputs": [],
   "source": [
    "# ¿Y en este caso funcionará?\n",
    "a = 1\n",
    "if a == 1:\n",
    "    #aquí deberíamos implementar algo\n",
    "    pass\n",
    "print(\"terminamos\")"
   ]
  },
  {
   "cell_type": "code",
   "execution_count": null,
   "metadata": {
    "collapsed": true
   },
   "outputs": [],
   "source": []
  }
 ],
 "metadata": {
  "kernelspec": {
   "display_name": "Python 3",
   "language": "python",
   "name": "python3"
  },
  "language_info": {
   "codemirror_mode": {
    "name": "ipython",
    "version": 3
   },
   "file_extension": ".py",
   "mimetype": "text/x-python",
   "name": "python",
   "nbconvert_exporter": "python",
   "pygments_lexer": "ipython3",
   "version": "3.6.4"
  }
 },
 "nbformat": 4,
 "nbformat_minor": 2
}
